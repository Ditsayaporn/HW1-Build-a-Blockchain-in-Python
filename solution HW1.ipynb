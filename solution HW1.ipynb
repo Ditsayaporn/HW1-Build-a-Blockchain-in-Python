{
 "cells": [
  {
   "cell_type": "markdown",
   "metadata": {},
   "source": [
    "# Build a Blockchain! - Blockchain Design Exercises"
   ]
  },
  {
   "cell_type": "code",
   "execution_count": 1,
   "metadata": {},
   "outputs": [],
   "source": [
    "#Import statements\n",
    "import hashlib as hasher \n",
    "import random as rand\n",
    "import time \n",
    "import datetime as date\n",
    "import ipyparallel as ipp\n",
    "import numpy as np\n",
    "import matplotlib.pyplot as plt"
   ]
  },
  {
   "cell_type": "markdown",
   "metadata": {},
   "source": [
    "# Blockchain Data Structure Design"
   ]
  },
  {
   "cell_type": "markdown",
   "metadata": {},
   "source": [
    "In this section we will define the class \"Block\" and create an init function that creates a new block given some parameters, as well as a function hash_block, that computes the hash of this block based on its class variables. \n",
    "\n",
    "The init function is implemented for you below and creates a block with the following specifications \n",
    "- Index --> the index of the block on the chain (zero indexed)\n",
    "- Timestamp --> time that the block was added on to the chain\n",
    "- data --> The data the block contains (Usually points to root of merkel tree, but we can fill it with whatever for this)\n",
    "- previous_hash --> The hash value of the previous block \n",
    "- hash --> hash of this block computed using the hash_block function\n",
    "- nonce --> the variable value that we change to alter the hash output (Default value = 0, irrelevant in this section)\n",
    "\n",
    "****QUESTION #1: Implement hash_block()****\n",
    "\n",
    "We need to implement the hash_block() which computes the hash value of this block based on how we initialize it. This function takes in no parameters. \n",
    "\n",
    "Desired Functionality:\n",
    "- Concatenate string representations of all the class variables \n",
    "- Computes the SHA256 hash of this concatenation "
   ]
  },
  {
   "cell_type": "markdown",
   "metadata": {},
   "source": []
  },
  {
   "cell_type": "code",
   "execution_count": 2,
   "metadata": {},
   "outputs": [],
   "source": [
    "class Block:\n",
    "    def __init__(self, index, timestamp, data, previous_hash, nonce=0):\n",
    "        self.index = index\n",
    "        self.timestamp = timestamp\n",
    "        self.data = data\n",
    "        self.nonce = nonce #set to zero as default not applicable in first section \n",
    "        self.previous_hash = previous_hash\n",
    "        self.hash = self.hash_block()\n",
    "\n",
    "    def hash_block(self):\n",
    "        \n",
    "        sha = hasher.sha256()\n",
    "        block_hash = (str(self.index) + \n",
    "                      str(self.timestamp) + \n",
    "                      str(self.data) + \n",
    "                      str(self.previous_hash) + \n",
    "                      str(self.nonce))\n",
    "        block_hash = block_hash.encode('utf-8')\n",
    "        sha.update(block_hash)\n",
    "        return sha.hexdigest()"
   ]
  },
  {
   "cell_type": "code",
   "execution_count": 3,
   "metadata": {},
   "outputs": [
    {
     "name": "stdout",
     "output_type": "stream",
     "text": [
      "PASSED!!! Move on to next Question\n"
     ]
    }
   ],
   "source": [
    "def test_question_1(index, block_time, data, previous_hash):\n",
    "    new_block = Block(index, block_time, data, previous_hash)\n",
    "    check_string = '2def27922fc1c67254a9cdb0c660b91abf9b135ad38fc13c7c77007448b824a0'\n",
    "    print_statement = \"PASSED!!! Move on to next Question\" if str(new_block.hash) == check_string else \"FAILED!!! Try Again\"\n",
    "    print(print_statement)\n",
    "    \n",
    "block_time = '2019-10-17 00:37:35.256774'\n",
    "data = 'Machine Learning Blockchain AI'\n",
    "previous_hash = '6ffd1464f68ef4aeb385d399244efa19293ba5c842c464a82c02f8256ef71428'\n",
    "index = 0\n",
    "    \n",
    "test_question_1(index, block_time, data, previous_hash)"
   ]
  },
  {
   "cell_type": "markdown",
   "metadata": {},
   "source": [
    "**Functions for Building the Chain**\n",
    "\n",
    "Now that we have our class Block completed, lets figure out how to make a chain out of them. For a chain, we need to first have a function that creates a genesis block, which serves as the first block of our chain, and then create the function next_block() which builds a new block on top of a given block.\n",
    "\n",
    "create_genesis_block() has been implemented for you. It creates a block with the following specifications. \n",
    "- index = 0\n",
    "- timestamp = Now (whenever the function is being called) \n",
    "- data = \"Genesis Block\"\n",
    "- previous_hash = \"0\"\n",
    "\n",
    "**QUESTION #2: Implement next_block()**\n",
    "\n",
    "We need to implement the function next_block() which takes in 1 parameter:\n",
    "- Last_block = an instance of class Block that is the block that we're building our next block on top of \n",
    "- nonce = Dont do anything with this right now - just pass it in to the Block that you create using the default \n",
    "\n",
    "We want to implement the function so that it returns a new instance of the class Block with the following specifications\n",
    "- index = index of last_block + 1\n",
    "- timestamp = Now (whenever the function is being called)\n",
    "- data = \"Hey! I'm block {index}\"  (for example block w/ index 5 would have data: \"Hey! I'm block 5\")\n",
    "- previous_hash = hash of last_block"
   ]
  },
  {
   "cell_type": "code",
   "execution_count": 4,
   "metadata": {},
   "outputs": [],
   "source": [
    "#Creates the first block with current time and generic data\n",
    "def create_genesis_block():\n",
    "    # Manually construct a block with\n",
    "    # index zero and arbitrary previous hash\n",
    "    return Block(0, date.datetime.now(), \"Genesis Block\", \"0\")\n",
    "\n",
    "#Function that creates the next block, given the last block on the chain you want to mine on\n",
    "def next_block(last_block, nonce=0):\n",
    "    \n",
    "    this_index = last_block.index + 1\n",
    "    this_timestamp = date.datetime.now()\n",
    "    this_data = \"Hey! I'm block \" + str(this_index)\n",
    "    this_prevhash = last_block.hash\n",
    "    return Block(this_index, this_timestamp, this_data, this_prevhash)\n",
    "    "
   ]
  },
  {
   "cell_type": "code",
   "execution_count": 5,
   "metadata": {},
   "outputs": [
    {
     "name": "stdout",
     "output_type": "stream",
     "text": [
      "PASSED!!! Move on to next part\n"
     ]
    }
   ],
   "source": [
    "def test_question_2(genesis_block):\n",
    "    block_1 = next_block(genesis_block)\n",
    "    if block_1.index == 1 and block_1.data == \"Hey! I'm block 1\" and block_1.previous_hash == genesis_block.hash and str(type(block_1.timestamp)) == \"<class 'datetime.datetime'>\":\n",
    "        print(\"PASSED!!! Move on to next part\" )\n",
    "    else:\n",
    "        print(\"FAILED!!! Try again :(\")\n",
    "    \n",
    "\n",
    "genesis_block = create_genesis_block()\n",
    "test_question_2(genesis_block)"
   ]
  },
  {
   "cell_type": "markdown",
   "metadata": {},
   "source": [
    "**Spinning up a Chain**\n",
    "\n",
    "Now that we've created the data structure as well as the functions needed to create the chain, lets see how spinning up an actual instance of this would work. \n",
    "\n",
    "Below we initialize three different variables \n",
    "- blockchain - this is a python list which we initialize with one block inside (the genesis block) \n",
    "- previous_block - this points to our genesis block (since it references the first element in blockchain)\n",
    "- num_blocks - this specifies the number of additional blocks we want to add to our chain \n",
    "\n",
    "**QUESTION 3 complete_chain()**\n",
    "\n",
    "We want to complete the implementation of the function complete_chain(). This function takes in three inputs, which correspond to the initializations that we made. It returns nothing, however by the time we are done running it, the list 'blockchain' that we initialized earlier has been turned into an array of length num_blocks + 1 in which each element is an instance of class Block and each element's self.previous_hash == the previous element's self.hash. Therefore we have created our own mini blockchain!! \n",
    "\n",
    "The for loop and the print statements of complete_chain have been implemented for you, you need to add the statements that ***create a new block on top of previous_block, add it to the block chain, and edit previous block so that the for loop can continue correctly*** "
   ]
  },
  {
   "cell_type": "code",
   "execution_count": 6,
   "metadata": {},
   "outputs": [
    {
     "name": "stdout",
     "output_type": "stream",
     "text": [
      "Block #1 has been added to the blockchain!\n",
      "Hash: ad239e817540d60a6b74fed566f5ebaaa49ff84dfb1bdd90c9cbc00f442f2568\n",
      "\n",
      "Block #2 has been added to the blockchain!\n",
      "Hash: 63a572ca8aa9029e073cba9d0ec5d9c8f59dfbedce5e928a25616eaed92871a7\n",
      "\n",
      "Block #3 has been added to the blockchain!\n",
      "Hash: f347b48918d42ddd9f83d4a3aef25c8d0b6830a9411805e06f6a973922cd4695\n",
      "\n",
      "Block #4 has been added to the blockchain!\n",
      "Hash: 01427e4320f71c57a1bbec243d884180c9dea0cbaa8d5b3cbea98eb5413a509f\n",
      "\n",
      "Block #5 has been added to the blockchain!\n",
      "Hash: 816cb27da282f4465209fa30109b86034a0a34724a47bd6027a7c1453686fd1d\n",
      "\n",
      "Block #6 has been added to the blockchain!\n",
      "Hash: 25e50a3e9328585683d9382e3794d806800aab0b41e0afc497b5ff4115ce617a\n",
      "\n",
      "Block #7 has been added to the blockchain!\n",
      "Hash: c54f62141a71df0e053b6b367fc25be5ac6a74f54baa66f11e358d95847d1430\n",
      "\n",
      "Block #8 has been added to the blockchain!\n",
      "Hash: eb2d386cb520fa2e2b78c0470601d3163f03bf17dcebe9758d6e4bd3f80c96ee\n",
      "\n",
      "Block #9 has been added to the blockchain!\n",
      "Hash: 3e145683d01799fdc8941175bac7bbbcca17408fda339870bcac375a86224c0d\n",
      "\n",
      "Block #10 has been added to the blockchain!\n",
      "Hash: 1fb6f20ce0ddcc54b84507f447e250ec50818a227b2d694ee7ebabfa447b85b8\n",
      "\n",
      "Block #11 has been added to the blockchain!\n",
      "Hash: b8ed06bd742512874dbbd26f1e8f66bc1c1074fa1f3590913c39bc5f061ed7cf\n",
      "\n",
      "Block #12 has been added to the blockchain!\n",
      "Hash: 5d77bf37c97d107dbe2c7c6385f5cd5d1b08ff45c0767def4a8e0f615944a434\n",
      "\n",
      "Block #13 has been added to the blockchain!\n",
      "Hash: e3d5b30e5ba60f427cb959da74fc2382ccfcf1a02878063cfef5525d16208368\n",
      "\n",
      "Block #14 has been added to the blockchain!\n",
      "Hash: d3dc7829b9bafb8bcab94538cc37704210ea407810c7000344e5381bb5b94c21\n",
      "\n",
      "Block #15 has been added to the blockchain!\n",
      "Hash: 7d168be18ae507d5ab584707863e0f2e28a17895ea6522c517c3e22a5d680cf5\n",
      "\n",
      "Block #16 has been added to the blockchain!\n",
      "Hash: 78300bf0d694b3d2e119a7bb4f279029e17b085c3ba9e35ca29f69196f1ab2ef\n",
      "\n",
      "Block #17 has been added to the blockchain!\n",
      "Hash: 0987736184852e7dfba5cebcf6d988976abead0a3bddbc11dc0c2f27503c5015\n",
      "\n",
      "Block #18 has been added to the blockchain!\n",
      "Hash: 02ad983814b47b108aa0e9a02134ad29b2f69b2c991db6329667df76f0ed43ca\n",
      "\n",
      "Block #19 has been added to the blockchain!\n",
      "Hash: 6f1195fa9487d7ef36b0943c441c82e6536bb39f74ae14bda626b1b90f6747e8\n",
      "\n",
      "Block #20 has been added to the blockchain!\n",
      "Hash: 6c7cc0a3d935ea0d70a0ef74c15d850657f09ba80c9fb2c3468b009ea3ad2ef2\n",
      "\n"
     ]
    }
   ],
   "source": [
    "# Create the blockchain and add the genesis block\n",
    "blockchain = [create_genesis_block()]\n",
    "\n",
    "#Create our initial reference to previous block which points to the genesis block\n",
    "previous_block = blockchain[0]\n",
    "\n",
    "# How many blocks should we add to the chain after the genesis block\n",
    "num_blocks = 20\n",
    "\n",
    "def complete_chain(num_blocks, blockchain, previous_block):\n",
    "    # Add blocks to the chain\n",
    "    for i in range(0, num_blocks):\n",
    "        \n",
    "        block_to_add = next_block(previous_block)\n",
    "        blockchain.append(block_to_add)\n",
    "        previous_block = block_to_add\n",
    "        \n",
    "        print(\"Block #{} has been added to the blockchain!\".format(block_to_add.index))\n",
    "        print(\"Hash: {}\\n\".format(block_to_add.hash))\n",
    "\n",
    "complete_chain(num_blocks, blockchain, previous_block)"
   ]
  },
  {
   "cell_type": "code",
   "execution_count": 7,
   "metadata": {},
   "outputs": [
    {
     "name": "stdout",
     "output_type": "stream",
     "text": [
      "PASSED!!! Move on to the next Part\n"
     ]
    }
   ],
   "source": [
    "def test_question_3(blockchain, num_blocks):\n",
    "    correct = True\n",
    "    if len(blockchain) != num_blocks + 1:\n",
    "        correct = False\n",
    "    for i in range(len(blockchain)-1):\n",
    "        if blockchain[i + 1].previous_hash != blockchain[i].hash:\n",
    "            correct = False\n",
    "            break\n",
    "    print_statement = \"PASSED!!! Move on to the next Part\" if correct else \"FAILED!!! Try Again :(\"\n",
    "    print(print_statement)\n",
    "\n",
    "test_question_3(blockchain, num_blocks)"
   ]
  },
  {
   "cell_type": "markdown",
   "metadata": {},
   "source": [
    "# Proof of Work Simulation"
   ]
  },
  {
   "cell_type": "markdown",
   "metadata": {},
   "source": [
    "In this section we will be doing a simulation of the proof-of-work consensus mechanism that the Bitcoin Blockchain (among others) uses. Let us define some of the concepts that we will be dealing with in this section. \n",
    "\n",
    "**The Nonce** --> Randomly generated value that we add to our concatenation of our block to add variance to our hashes\n",
    "**Difficulty** --> Specified by the network (in theory, here it is specified by us). Defines the number of hashes that are valid out of all possible values. Higher difficulty indicates a lower number of valid hashes. \n",
    "\n",
    "**QUESTION 4: generate_nonce(), generate_difficulty_bound(), find_next_block()**\n",
    "\n",
    "**Part 1 - Description** \n",
    "\n",
    "The functions **generate_nonce()** and **generate_difficulty_bound()** have been implemented below for you. The first part of this question involves reading through, them understanding them completely, and writing a quick 1 - 2 line summary of what they are supposed to do and how they are implemented (write it in the space given, 2 cells below).\n",
    "\n",
    "**Part 2 - Implementation**\n",
    "\n",
    "The second part of this question is to complete the implementation of find_next_block(). This function's purpose is to try different blocks with the same data, index etc. but different nonces that satisfy the difficulty metric specified. The difficulty bound has already been generated for you and the first block has been created. You have to complete the implementation so that: \n",
    "- You find a nonce such that the hash of the block is less than the difficulty bound. \n",
    "- All data from new block has to be the same (including the timestamp, for simplicity purposes) and the only thing changing is the nonce \n",
    "- For our learning purposes, increment the hashes_tried parameter appropriately everytime you try a hash so that we can see the number of hashes tried and how this correlates to our difficulty value. "
   ]
  },
  {
   "cell_type": "code",
   "execution_count": 8,
   "metadata": {},
   "outputs": [],
   "source": [
    "def generate_nonce(length=20):\n",
    "    return ''.join([str(rand.randint(0, 9)) for i in range(length)])\n",
    "\n",
    "def generate_difficulty_bound(difficulty=1):\n",
    "    diff_str = \"\"\n",
    "    for i in range(difficulty):\n",
    "        diff_str += '0'\n",
    "    for i in range(64 - difficulty):\n",
    "        diff_str += 'F'\n",
    "    diff_str = \"0x\" + diff_str  # \"0x\" needs to be added at the front to specify that it is a hex representation\n",
    "    return(int(diff_str, 16))  # Specifies that we want to create an integer of base 16 (as opposed to the default  base 10)\n",
    "\n",
    "#Given a previous block and a difficulty metric, finds a nonce that results in a lower hash value\n",
    "def find_next_block(last_block, difficulty, nonce_length):\n",
    "    difficulty_bound = generate_difficulty_bound(difficulty)\n",
    "    start = time.process_time() \n",
    "    new_block = next_block(last_block)\n",
    "    hashes_tried = 1 \n",
    "    \n",
    "    while int(new_block.hash, 16) > difficulty_bound:\n",
    "        nonce = generate_nonce(nonce_length)\n",
    "        new_block = Block(new_block.index, new_block.timestamp, new_block.data, new_block.previous_hash, nonce)\n",
    "        hashes_tried += 1 \n",
    "    \n",
    "    time_taken = time.process_time() - start\n",
    "    return(time_taken, hashes_tried, new_block)"
   ]
  },
  {
   "cell_type": "markdown",
   "metadata": {},
   "source": [
    "**QUESTION 4 Description Section**\n",
    "\n",
    "Describe the following functions: \n",
    "\n",
    "- generate_nonce(): **random or semi-random number that is generated for a specific use.        \n",
    "\n",
    "- generate_difficulty_bound(): **We don't just create one hash per block and that's it. A hash must be valid. example, a hash will be valid if the first four characters of our hash are 0. If our hash starts with '0000......', it is considered valid. This is called the difficulty. The higher the difficulty, the longer it takes to get a valid hash"
   ]
  },
  {
   "cell_type": "markdown",
   "metadata": {},
   "source": [
    "The cell below creates our proof of work blockchain in a similar way that we do in the earlier section. \n",
    "\n",
    "Some initializations:\n",
    "- blockchain_pow: Our new python list that signifies our proof of work blockchain, with the genesis block inside\n",
    "- previous_block: The first block to use as previous block to build upon\n",
    "- num_blocks: number of additional blocks to add to teh chain\n",
    "- difficulty: difficulty of the network \n",
    "- nonce_length: length of the randomly generated nonce"
   ]
  },
  {
   "cell_type": "markdown",
   "metadata": {},
   "source": [
    "### Create Proof of Work Blockchain "
   ]
  },
  {
   "cell_type": "code",
   "execution_count": 9,
   "metadata": {},
   "outputs": [
    {
     "name": "stdout",
     "output_type": "stream",
     "text": [
      "Block #1 has been added to the blockchain!\n",
      "9821 Hashes Tried!\n",
      "Time taken to find block: 0.25\n",
      "Hash: 000b4a76baf2837b04c7ffc04116fd875d8f79c8acf654b2b176d4325c8ea975\n",
      "\n",
      "Block #2 has been added to the blockchain!\n",
      "3731 Hashes Tried!\n",
      "Time taken to find block: 0.09375\n",
      "Hash: 000e4e43846201c0da3eeed8a9368bf4c293cc64f8fb5cdeefcdeaa5986e9a24\n",
      "\n",
      "Block #3 has been added to the blockchain!\n",
      "5385 Hashes Tried!\n",
      "Time taken to find block: 0.125\n",
      "Hash: 000b7e0d9873c70a5894595089eef9931a0547b107390b7fde4eb8a1e0e8241b\n",
      "\n",
      "Block #4 has been added to the blockchain!\n",
      "9113 Hashes Tried!\n",
      "Time taken to find block: 0.234375\n",
      "Hash: 00018ad9636ae69ec926572f26f54b735b8009008e2e4382bb057efab164f9c0\n",
      "\n",
      "Block #5 has been added to the blockchain!\n",
      "566 Hashes Tried!\n",
      "Time taken to find block: 0.015625\n",
      "Hash: 0002e12f84ed35557537e88dae6bcdc4d05bac1776b43131eb61ceb85ea4c320\n",
      "\n",
      "Block #6 has been added to the blockchain!\n",
      "431 Hashes Tried!\n",
      "Time taken to find block: 0.0\n",
      "Hash: 00070712def225f9d1c095d69e56002ca8bb12f222341909e6dd218f956cebf7\n",
      "\n",
      "Block #7 has been added to the blockchain!\n",
      "842 Hashes Tried!\n",
      "Time taken to find block: 0.03125\n",
      "Hash: 0009cef261482dfe49de7430e67130998a538ab5e862f77e99ef7f657c180622\n",
      "\n",
      "Block #8 has been added to the blockchain!\n",
      "2833 Hashes Tried!\n",
      "Time taken to find block: 0.0625\n",
      "Hash: 000772d0ffa14b92688b4bde5c23de093ecd6a1f6066871abdb9047b7f3d932a\n",
      "\n",
      "Block #9 has been added to the blockchain!\n",
      "4896 Hashes Tried!\n",
      "Time taken to find block: 0.125\n",
      "Hash: 000c8d8008baa992b029556bceffe4e405aa4c8b4689fc56e7e8caf6a5750f0c\n",
      "\n",
      "Block #10 has been added to the blockchain!\n",
      "2873 Hashes Tried!\n",
      "Time taken to find block: 0.0625\n",
      "Hash: 00021c2bed25ce2ebbe2ff7f27feccd2bac22f3dd6454b927cd0ab67ad014a92\n",
      "\n",
      "Block #11 has been added to the blockchain!\n",
      "325 Hashes Tried!\n",
      "Time taken to find block: 0.015625\n",
      "Hash: 000e1883f0b27a2dadd5fe6f21929276b37d395f0aac3fa6c9b37d66e2606fd2\n",
      "\n",
      "Block #12 has been added to the blockchain!\n",
      "1545 Hashes Tried!\n",
      "Time taken to find block: 0.03125\n",
      "Hash: 00046e4f6cd1c98c1aa6875783dba46529bc7310bfae48a7571215dd34471cfb\n",
      "\n",
      "Block #13 has been added to the blockchain!\n",
      "631 Hashes Tried!\n",
      "Time taken to find block: 0.015625\n",
      "Hash: 0000c0b7d4b9a5efd3255ff5b11c4ab559706d9ba8c527bc805d90b5df1ee678\n",
      "\n",
      "Block #14 has been added to the blockchain!\n",
      "495 Hashes Tried!\n",
      "Time taken to find block: 0.015625\n",
      "Hash: 000c4be4685799ce1e9287e65352730062ed73813ca6103d0c7b2ade252d9e0b\n",
      "\n",
      "Block #15 has been added to the blockchain!\n",
      "1520 Hashes Tried!\n",
      "Time taken to find block: 0.03125\n",
      "Hash: 0005350bf87b61900ae4f9a7bfdfa38d7b31c49fee4aca32be1dd31e8ce1fbd5\n",
      "\n",
      "Block #16 has been added to the blockchain!\n",
      "2485 Hashes Tried!\n",
      "Time taken to find block: 0.0625\n",
      "Hash: 0004fb566b3cd4014beb8beb63ff3a71c8b0f29e63cacac53e12f0c01d6dc8a7\n",
      "\n",
      "Block #17 has been added to the blockchain!\n",
      "3483 Hashes Tried!\n",
      "Time taken to find block: 0.078125\n",
      "Hash: 000353d14a825f0358251fecca6fa2664047a23111400fc002c36110e449ed42\n",
      "\n",
      "Block #18 has been added to the blockchain!\n",
      "6940 Hashes Tried!\n",
      "Time taken to find block: 0.15625\n",
      "Hash: 000481a384dbc41b0102eb9fabd3c11643601167921770c46abd621e2f2a0ca8\n",
      "\n",
      "Block #19 has been added to the blockchain!\n",
      "3663 Hashes Tried!\n",
      "Time taken to find block: 0.09375\n",
      "Hash: 00043b1214add6ababab480c84539932e4da923790c3f4c55809016958362963\n",
      "\n",
      "Block #20 has been added to the blockchain!\n",
      "6895 Hashes Tried!\n",
      "Time taken to find block: 0.171875\n",
      "Hash: 00081a44ab9eb7df2ec4236e75936baf6c2f691739963f29d4aee08c1dd2fbb3\n",
      "\n"
     ]
    }
   ],
   "source": [
    "# Create the blockchain and add the genesis block\n",
    "blockchain_pow = [create_genesis_block()]\n",
    "\n",
    "#Create our initial reference to previous block which points to the genesis block\n",
    "previous_block = blockchain_pow[0]\n",
    "\n",
    "# How many blocks should we add to the chain after genesis block\n",
    "num_blocks = 20\n",
    "\n",
    "#magnitude of difficulty of hash - number of zeroes that must be in the beginning of the hash\n",
    "difficulty = 3\n",
    "\n",
    "#length of nonce that will be generated and added\n",
    "nonce_length = 20\n",
    "\n",
    "# Add blocks to the chain based on difficulty with nonces of length nonce_length\n",
    "def create_pow_blockchain(num_blocks, difficulty, blockchain_pow, previous_block, nonce_length, print_data=1):\n",
    "    hash_array = []\n",
    "    time_array = []\n",
    "    for i in range(0, num_blocks):\n",
    "        time_taken, hashes_tried, block_to_add = find_next_block(previous_block, difficulty, nonce_length)\n",
    "        blockchain_pow.append(block_to_add)\n",
    "        previous_block = block_to_add\n",
    "        hash_array.append(hashes_tried)\n",
    "        time_array.append(time_taken)\n",
    "        # Tell everyone about it!\n",
    "        if print_data:\n",
    "            print(\"Block #{} has been added to the blockchain!\".format(block_to_add.index))\n",
    "            print(\"{} Hashes Tried!\".format(hashes_tried))\n",
    "            print(\"Time taken to find block: {}\".format(time_taken))\n",
    "            print(\"Hash: {}\\n\".format(block_to_add.hash))\n",
    "    return(hash_array, time_array)\n",
    "\n",
    "hash_array, time_array = create_pow_blockchain(num_blocks, difficulty, blockchain_pow, previous_block, nonce_length)"
   ]
  },
  {
   "cell_type": "code",
   "execution_count": 10,
   "metadata": {},
   "outputs": [
    {
     "name": "stdout",
     "output_type": "stream",
     "text": [
      "PASSED!!! Move on to the next Part\n"
     ]
    }
   ],
   "source": [
    "def test_question_4(blockchain_pow, num_blocks):\n",
    "    correct = True\n",
    "    bound = generate_difficulty_bound(difficulty)\n",
    "    if len(blockchain_pow) != num_blocks + 1:\n",
    "        correct = False\n",
    "    for i in range(len(blockchain_pow) - 1):\n",
    "        if blockchain_pow[i + 1].previous_hash != blockchain_pow[i].hash:\n",
    "            correct = False\n",
    "            break\n",
    "        if int(blockchain_pow[i + 1].hash, 16) > bound:\n",
    "            correct = False\n",
    "            break\n",
    "    print_statement = \"PASSED!!! Move on to the next Part\" if correct else \"FAILED!!! Try Again :(\"\n",
    "    print(print_statement)\n",
    "            \n",
    "test_question_4(blockchain_pow, num_blocks)"
   ]
  },
  {
   "cell_type": "markdown",
   "metadata": {},
   "source": [
    "Once you have passed the above test case, you can do things like play around with the difficulties and nonce lengths and seeing that happens "
   ]
  },
  {
   "cell_type": "markdown",
   "metadata": {},
   "source": [
    "# Distributed Network + Compute Power Simulation"
   ]
  },
  {
   "cell_type": "markdown",
   "metadata": {},
   "source": [
    "In this section, instead of simulating a single node that carries out all the proof of work calculations, we will create a bunch of different nodes that will all compete to find different blocks. These nodes will all have different compute powers that we will be able to specify. Below we will define the MinerNodeNaive class which has an init function to create an instance, as well as a try_hash function that allows it to try a hash and see if it works. "
   ]
  },
  {
   "cell_type": "code",
   "execution_count": 11,
   "metadata": {},
   "outputs": [],
   "source": [
    "#Naive miner class that races with other miners to see who can get a certain number of blocks first \n",
    "class MinerNodeNaive: \n",
    "    def __init__(self, name, compute):\n",
    "        self.name = name \n",
    "        self.compute = compute\n",
    "    \n",
    "    def try_hash(self, diff_value, chain):\n",
    "        last_block = chain[-1]\n",
    "        difficulty = generate_difficulty_bound(diff_value)\n",
    "        date_now = date.datetime.now()\n",
    "        this_index = last_block.index + 1\n",
    "        this_timestamp = date_now\n",
    "        this_data = \"Hey! I'm block \" + str(this_index)\n",
    "        this_hash = last_block.hash\n",
    "        new_block = Block(this_index, this_timestamp, this_data, this_hash)\n",
    "        if int(new_block.hash, 16) < difficulty:\n",
    "            chain.append(new_block)\n",
    "            # Tell everyone about it!\n",
    "            print(\"Block #{} has been added to the blockchain!\".format(new_block.index))\n",
    "            print(\"Block found by: {}\".format(self.name))\n",
    "            print(\"Hash: {}\\n\".format(new_block.hash))\n",
    "        "
   ]
  },
  {
   "cell_type": "markdown",
   "metadata": {},
   "source": [
    "**Question #5: Describe the Following Cells**\n",
    "\n",
    "In the next 4 cells I try to simulate a bunch of different miners with different compute powers. However this isn't completely indicative of how a real system works, and is limited by what I had to work with. Read through the code, and run all of the cells and explain what is happening in a paragrpah. Also explain how this is different from real world vanilla proof of work systems and how this simulation isn't completely accurate of what's actually happening while nodes race to find the next block. There is a cell at the bottom where you can enter your description.  "
   ]
  },
  {
   "cell_type": "code",
   "execution_count": 12,
   "metadata": {},
   "outputs": [],
   "source": [
    "#Initialize multiple miners on the network \n",
    "berkeley_Miner = MinerNodeNaive(\"Berkeley Miner\", 10)\n",
    "stanford_Miner = MinerNodeNaive(\"Stanford Miner\", 5)\n",
    "MIT_Miner = MinerNodeNaive(\"MIT Miner\", 2)\n",
    "UCLA_Miner = MinerNodeNaive(\"UCLA Miner\", 1)\n",
    "\n",
    "miner_array = [berkeley_Miner, stanford_Miner, MIT_Miner, UCLA_Miner]"
   ]
  },
  {
   "cell_type": "code",
   "execution_count": 13,
   "metadata": {},
   "outputs": [],
   "source": [
    "def create_compute_simulation(miner_array):\n",
    "    compute_array = []\n",
    "    for miner in miner_array:\n",
    "        for i in range(miner.compute):\n",
    "            compute_array.append(miner.name)\n",
    "    return(compute_array)\n",
    "\n",
    "compute_simulation_array = create_compute_simulation(miner_array)\n",
    "rand.shuffle(compute_simulation_array)"
   ]
  },
  {
   "cell_type": "code",
   "execution_count": 14,
   "metadata": {},
   "outputs": [],
   "source": [
    "chain_length = 20\n",
    "blockchain_distributed = [create_genesis_block()]\n",
    "genesis_block_dist = blockchain_distributed[0]\n",
    "chain_difficulty = [rand.randint(2,4) for i in range(chain_length)]"
   ]
  },
  {
   "cell_type": "code",
   "execution_count": 15,
   "metadata": {},
   "outputs": [
    {
     "name": "stdout",
     "output_type": "stream",
     "text": [
      "Block #1 has been added to the blockchain!\n",
      "Block found by: Stanford Miner\n",
      "Hash: 00a10a1783ed4d1b0028ab69d1c80a379faa576a5e4dae0b4663e820d5dd82f9\n",
      "\n",
      "Block #2 has been added to the blockchain!\n",
      "Block found by: Berkeley Miner\n",
      "Hash: 00005715d810bc4c9e7d357e0a255a2da2ccb18352a114ecd59d9ad5f7605e14\n",
      "\n",
      "Block #3 has been added to the blockchain!\n",
      "Block found by: MIT Miner\n",
      "Hash: 0033c7c2d2afddbba023dd296d51f45defed84aa0a3e52cb8acc9ee1173b8dfd\n",
      "\n",
      "Block #4 has been added to the blockchain!\n",
      "Block found by: Berkeley Miner\n",
      "Hash: 00069ddb67d47c1f514890f7fbffa406a6912c736c01a78cf6108a0596a56f3d\n",
      "\n",
      "Block #5 has been added to the blockchain!\n",
      "Block found by: Berkeley Miner\n",
      "Hash: 000133363ee8b365ccf714115415780ad0480b4c43777d29ace53af41d2000c1\n",
      "\n",
      "Block #6 has been added to the blockchain!\n",
      "Block found by: Berkeley Miner\n",
      "Hash: 000f679eb08fe9fc16e46e179f2169b6e84c761011b9f01eed72248d30768c0b\n",
      "\n",
      "Block #7 has been added to the blockchain!\n",
      "Block found by: Berkeley Miner\n",
      "Hash: 000046f14a72d84fd2bdcbdfc589f7b32d4f13517129ea9d34b0aae5724535a6\n",
      "\n",
      "Block #8 has been added to the blockchain!\n",
      "Block found by: Stanford Miner\n",
      "Hash: 000020069ea6bc9feea997e8839a6ea1e4ebb9e9d20ff6fe7cc3e7755b8bd8ec\n",
      "\n",
      "Block #9 has been added to the blockchain!\n",
      "Block found by: MIT Miner\n",
      "Hash: 000a0f6a16cbce77fa7f00b18503211ee3bacb04293edff98ba2a002aeaf7c38\n",
      "\n",
      "Block #10 has been added to the blockchain!\n",
      "Block found by: Berkeley Miner\n",
      "Hash: 000298c59023c9b114637fd825d803761b52ff7b3c9a74ffb03983852679cf93\n",
      "\n",
      "Block #11 has been added to the blockchain!\n",
      "Block found by: Stanford Miner\n",
      "Hash: 000b244c6ad168a4f66f78cc1d9a1a9a6aeb076713486305d81cbfe66f00bdec\n",
      "\n",
      "Block #12 has been added to the blockchain!\n",
      "Block found by: UCLA Miner\n",
      "Hash: 00005ba603b3f8add2eff97aa4b717775a6150f828a27e526ee70d1820382ac0\n",
      "\n",
      "Block #13 has been added to the blockchain!\n",
      "Block found by: Berkeley Miner\n",
      "Hash: 00150ff7ee43f445c60c852e69058973b5e997029336e585cae8af3804bbe41c\n",
      "\n",
      "Block #14 has been added to the blockchain!\n",
      "Block found by: Berkeley Miner\n",
      "Hash: 00a3fa2679cb233d0d24605558569c5d35ce81b71d6b80477cbaee1c68f0873a\n",
      "\n",
      "Block #15 has been added to the blockchain!\n",
      "Block found by: Berkeley Miner\n",
      "Hash: 009fc629f83f52efa20865515104bb9a8086db1d053d9e2ae69a3af34b4ebcb3\n",
      "\n",
      "Block #16 has been added to the blockchain!\n",
      "Block found by: MIT Miner\n",
      "Hash: 007c1bdbb6d08ee050b577d9b88f3612afe752a123946d63ac750270f69da9b1\n",
      "\n",
      "Block #17 has been added to the blockchain!\n",
      "Block found by: Berkeley Miner\n",
      "Hash: 00b1c5470e94dbc528134b65fc2149d4dd79e56b08c63194c7f74c169cf49dc6\n",
      "\n",
      "Block #18 has been added to the blockchain!\n",
      "Block found by: MIT Miner\n",
      "Hash: 000f2d9fd0d18e75dc6a6a678d090e4379e9558d50b71655171a4d730858c4b3\n",
      "\n",
      "Block #19 has been added to the blockchain!\n",
      "Block found by: Berkeley Miner\n",
      "Hash: 0006d1ca998e6fd2bdf39008cad4348ddcc47d862f31cecbfcfdeb70f96dc611\n",
      "\n",
      "Block #20 has been added to the blockchain!\n",
      "Block found by: MIT Miner\n",
      "Hash: 0029ddc59b03f82202b241f12094229538fe9de804628b2a1532e3b7819bd1a0\n",
      "\n"
     ]
    }
   ],
   "source": [
    "for i in range(len(chain_difficulty)): \n",
    "    while len(blockchain_distributed) < i + 2:\n",
    "        next_miner_str = rand.sample(compute_simulation_array, 1)[0] \n",
    "        next_miner = berkeley_Miner #random default (go bears)\n",
    "        for miner in miner_array:\n",
    "            if next_miner_str == miner.name:\n",
    "                next_miner = miner\n",
    "        next_miner.try_hash(chain_difficulty[i], blockchain_distributed)\n",
    "        "
   ]
  },
  {
   "cell_type": "markdown",
   "metadata": {
    "collapsed": true
   },
   "source": [
    "# Blockchain Data Analytics"
   ]
  },
  {
   "cell_type": "markdown",
   "metadata": {
    "collapsed": true
   },
   "source": [
    "Here we will use data analytics to analyze the number of hashes we need to try before we find a valid hash, given a difficulty level. Look through the code briefly (in depth is not necessary), run all of the cells, and answer the question at the bottom. (difficulty level 3 takes a bit of time so dont be alarmed if this next cell takes a bit of time to run). "
   ]
  },
  {
   "cell_type": "code",
   "execution_count": 16,
   "metadata": {},
   "outputs": [
    {
     "name": "stdout",
     "output_type": "stream",
     "text": [
      "Difficulty Level: 1 complete\n",
      "Difficulty Level: 2 complete\n",
      "Difficulty Level: 3 complete\n",
      "Difficulty Level: 4 complete\n"
     ]
    }
   ],
   "source": [
    "blockchain = [create_genesis_block()]\n",
    "previous_block = blockchain[0]\n",
    "num_blocks = 10\n",
    "\n",
    "#3 different types of difficulty to analyze\n",
    "difficulty_0 = 1\n",
    "difficulty_1 = 2\n",
    "difficulty_2 = 3\n",
    "difficulty_3 = 4\n",
    "\n",
    "nonce_length = 20\n",
    "\n",
    "hash_array_0, time_array_0 = create_pow_blockchain(num_blocks, difficulty_0, blockchain, previous_block, nonce_length, 0)\n",
    "print(\"Difficulty Level: {} complete\".format(difficulty_0))\n",
    "hash_array_1, time_array_1 = create_pow_blockchain(num_blocks, difficulty_1, blockchain, previous_block, nonce_length, 0)\n",
    "print(\"Difficulty Level: {} complete\".format(difficulty_1))\n",
    "hash_array_2, time_array_2 = create_pow_blockchain(num_blocks, difficulty_2, blockchain, previous_block, nonce_length, 0)\n",
    "print(\"Difficulty Level: {} complete\".format(difficulty_2))\n",
    "hash_array_3, time_array_3 = create_pow_blockchain(num_blocks, difficulty_3, blockchain, previous_block, nonce_length, 0)\n",
    "print(\"Difficulty Level: {} complete\".format(difficulty_3))"
   ]
  },
  {
   "cell_type": "code",
   "execution_count": 17,
   "metadata": {},
   "outputs": [],
   "source": [
    "mean_arr_hash = [np.mean(hash_array_0), np.mean(hash_array_1), np.mean(hash_array_2), np.mean(hash_array_3)]\n",
    "mean_arr_time = [np.mean(time_array_0), np.mean(time_array_1), np.mean(time_array_2), np.mean(time_array_3)]"
   ]
  },
  {
   "cell_type": "code",
   "execution_count": 18,
   "metadata": {},
   "outputs": [
    {
     "data": {
      "image/png": "[encoded data removed]",
      "text/plain": [
       "<Figure size 432x288 with 1 Axes>"
      ]
     },
     "metadata": {
      "needs_background": "light"
     },
     "output_type": "display_data"
    }
   ],
   "source": [
    "plt.plot(mean_arr_hash)\n",
    "plt.show()"
   ]
  },
  {
   "cell_type": "code",
   "execution_count": 19,
   "metadata": {},
   "outputs": [
    {
     "data": {
      "image/png": "[encoded data removed]",
      "text/plain": [
       "<Figure size 432x288 with 1 Axes>"
      ]
     },
     "metadata": {
      "needs_background": "light"
     },
     "output_type": "display_data"
    }
   ],
   "source": [
    "plt.plot(mean_arr_time)\n",
    "plt.show()"
   ]
  },
  {
   "cell_type": "code",
   "execution_count": 20,
   "metadata": {},
   "outputs": [
    {
     "name": "stdout",
     "output_type": "stream",
     "text": [
      "Factor of difficulty increase from 1 to 2: 21.24113475177305\n",
      "Factor of difficulty increase from 2 to 3: 14.806677796327213\n",
      "Factor of difficulty increase from 3 to 4: 20.420488882875567\n"
     ]
    }
   ],
   "source": [
    "diff_factor_1 = np.mean(hash_array_1)/np.mean(hash_array_0)\n",
    "diff_factor_2 = np.mean(hash_array_2)/np.mean(hash_array_1)\n",
    "diff_factor_3 = np.mean(hash_array_3)/np.mean(hash_array_2)\n",
    "print(\"Factor of difficulty increase from 1 to 2: {}\".format(diff_factor_1))\n",
    "print(\"Factor of difficulty increase from 2 to 3: {}\".format(diff_factor_2))\n",
    "print(\"Factor of difficulty increase from 3 to 4: {}\".format(diff_factor_3))"
   ]
  },
  {
   "cell_type": "markdown",
   "metadata": {},
   "source": [
    "**Question 6: This one is simple**\n",
    "\n",
    "Look at the factor of difficulty increase from each level to the subsequent level, printed from the cell above.\n",
    "\n",
    "What would the factor of difficulty increase be for each level: **nonce_length"
   ]
  }
 ],
 "metadata": {
  "kernelspec": {
   "display_name": "Python 3 (ipykernel)",
   "language": "python",
   "name": "python3"
  },
  "language_info": {
   "codemirror_mode": {
    "name": "ipython",
    "version": 3
   },
   "file_extension": ".py",
   "mimetype": "text/x-python",
   "name": "python",
   "nbconvert_exporter": "python",
   "pygments_lexer": "ipython3",
   "version": "3.9.7"
  }
 },
 "nbformat": 4,
 "nbformat_minor": 2
}
